{
 "cells": [
  {
   "cell_type": "code",
   "execution_count": 5,
   "metadata": {},
   "outputs": [
    {
     "data": {
      "text/plain": [
       "true"
      ]
     },
     "execution_count": 5,
     "metadata": {},
     "output_type": "execute_result"
    }
   ],
   "source": [
    "PARAMETERS = Dict{String, Any}()\n",
    "\n",
    "PARAMETERS[\"TRAIN_PATH\"] = \"train.txt\"\n",
    "PARAMETERS[\"DEV_PATH\"] = \"dev.txt\"\n",
    "PARAMETERS[\"TEST_PATH\"] = \"test.txt\"\n",
    "PARAMETERS[\"TO_LOWERCASE\"] = true\n",
    "PARAMETERS[\"ZERO_ALL_NUMS\"] = true\n"
   ]
  },
  {
   "cell_type": "code",
   "execution_count": 6,
   "metadata": {},
   "outputs": [
    {
     "data": {
      "text/plain": [
       "zero_digits (generic function with 1 method)"
      ]
     },
     "execution_count": 6,
     "metadata": {},
     "output_type": "execute_result"
    }
   ],
   "source": [
    "function zero_digits(str::AbstractString)\n",
    "    replace(str, r\"\\d\" => \"0\")\n",
    "end"
   ]
  },
  {
   "cell_type": "code",
   "execution_count": 9,
   "metadata": {},
   "outputs": [
    {
     "data": {
      "text/plain": [
       "load_sentences (generic function with 1 method)"
      ]
     },
     "execution_count": 9,
     "metadata": {},
     "output_type": "execute_result"
    }
   ],
   "source": [
    "function load_sentences(path, zeros)\n",
    "  \"\"\"\n",
    "  Load sentences. A line must contain at least a word and its tag.\n",
    "  Sentences are separated by empty lines.\n",
    "  \"\"\"\n",
    "  sentences = []\n",
    "  sentence = []\n",
    "  for line in readlines(path)\n",
    "    if zeros \n",
    "      line = zero_digits(rstrip(line))\n",
    "    else\n",
    "      line = strip(line)\n",
    "    end\n",
    "\n",
    "    if isempty(line) && length(sentence) > 0\n",
    "        if !occursin(\"DOCSTART\", sentence[1][1])\n",
    "          push!(sentences, sentence)\n",
    "        end\n",
    "        sentence = []\n",
    "    else\n",
    "      word = split(line)\n",
    "      @assert length(word) >= 2\n",
    "      push!(sentence, word)\n",
    "    end      \n",
    "  end\n",
    "\n",
    "  if length(sentence) > 0\n",
    "    if !occursin(\"DOCSTART\", sentence[1][1])\n",
    "      push!(sentences, sentence)\n",
    "    end\n",
    "  end\n",
    "  \n",
    "  sentences\n",
    "end"
   ]
  },
  {
   "cell_type": "code",
   "execution_count": 8,
   "metadata": {
    "scrolled": true
   },
   "outputs": [
    {
     "data": {
      "text/plain": [
       "3453-element Array{Any,1}:\n",
       " Any[SubString{String}[\"SOCCER\", \"NN\", \"B-NP\", \"O\"], SubString{String}[\"-\", \":\", \"O\", \"O\"], SubString{String}[\"JAPAN\", \"NNP\", \"B-NP\", \"B-LOC\"], SubString{String}[\"GET\", \"VB\", \"B-VP\", \"O\"], SubString{String}[\"LUCKY\", \"NNP\", \"B-NP\", \"O\"], SubString{String}[\"WIN\", \"NNP\", \"I-NP\", \"O\"], SubString{String}[\",\", \",\", \"O\", \"O\"], SubString{String}[\"CHINA\", \"NNP\", \"B-NP\", \"B-PER\"], SubString{String}[\"IN\", \"IN\", \"B-PP\", \"O\"], SubString{String}[\"SURPRISE\", \"DT\", \"B-NP\", \"O\"], SubString{String}[\"DEFEAT\", \"NN\", \"I-NP\", \"O\"], SubString{String}[\".\", \".\", \"O\", \"O\"]]                                                                                                                                                                                                                                                                                                                                                                                                                                      \n",
       " Any[SubString{String}[\"Nadim\", \"NNP\", \"B-NP\", \"B-PER\"], SubString{String}[\"Ladki\", \"NNP\", \"I-NP\", \"I-PER\"]]                                                                                                                                                                                                                                                                                                                                                                                                                                                                                                                                                                                                                                                                                                                                                                                                                                                                                                    \n",
       " Any[SubString{String}[\"AL-AIN\", \"NNP\", \"B-NP\", \"B-LOC\"], SubString{String}[\",\", \",\", \"O\", \"O\"], SubString{String}[\"United\", \"NNP\", \"B-NP\", \"B-LOC\"], SubString{String}[\"Arab\", \"NNP\", \"I-NP\", \"I-LOC\"], SubString{String}[\"Emirates\", \"NNPS\", \"I-NP\", \"I-LOC\"], SubString{String}[\"0000-00-00\", \"CD\", \"I-NP\", \"O\"]]                                                                                                                                                                                                                                                                                                                                                                                                                                                                                                                                                                                                                                                                                            \n",
       " Any[SubString{String}[\"Japan\", \"NNP\", \"B-NP\", \"B-LOC\"], SubString{String}[\"began\", \"VBD\", \"B-VP\", \"O\"], SubString{String}[\"the\", \"DT\", \"B-NP\", \"O\"], SubString{String}[\"defence\", \"NN\", \"I-NP\", \"O\"], SubString{String}[\"of\", \"IN\", \"B-PP\", \"O\"], SubString{String}[\"their\", \"PRP\\$\", \"B-NP\", \"O\"], SubString{String}[\"Asian\", \"JJ\", \"I-NP\", \"B-MISC\"], SubString{String}[\"Cup\", \"NNP\", \"I-NP\", \"I-MISC\"], SubString{String}[\"title\", \"NN\", \"I-NP\", \"O\"], SubString{String}[\"with\", \"IN\", \"B-PP\", \"O\"]  …  SubString{String}[\"Syria\", \"NNP\", \"B-NP\", \"B-LOC\"], SubString{String}[\"in\", \"IN\", \"B-PP\", \"O\"], SubString{String}[\"a\", \"DT\", \"B-NP\", \"O\"], SubString{String}[\"Group\", \"NNP\", \"I-NP\", \"O\"], SubString{String}[\"C\", \"NNP\", \"I-NP\", \"O\"], SubString{String}[\"championship\", \"NN\", \"I-NP\", \"O\"], SubString{String}[\"match\", \"NN\", \"I-NP\", \"O\"], SubString{String}[\"on\", \"IN\", \"B-PP\", \"O\"], SubString{String}[\"Friday\", \"NNP\", \"B-NP\", \"O\"], SubString{String}[\".\", \".\", \"O\", \"O\"]]                     \n",
       " Any[SubString{String}[\"But\", \"CC\", \"O\", \"O\"], SubString{String}[\"China\", \"NNP\", \"B-NP\", \"B-LOC\"], SubString{String}[\"saw\", \"VBD\", \"B-VP\", \"O\"], SubString{String}[\"their\", \"PRP\\$\", \"B-NP\", \"O\"], SubString{String}[\"luck\", \"NN\", \"I-NP\", \"O\"], SubString{String}[\"desert\", \"VB\", \"B-VP\", \"O\"], SubString{String}[\"them\", \"PRP\", \"B-NP\", \"O\"], SubString{String}[\"in\", \"IN\", \"B-PP\", \"O\"], SubString{String}[\"the\", \"DT\", \"B-NP\", \"O\"], SubString{String}[\"second\", \"NN\", \"I-NP\", \"O\"]  …  SubString{String}[\"crashing\", \"VBG\", \"B-VP\", \"O\"], SubString{String}[\"to\", \"TO\", \"B-PP\", \"O\"], SubString{String}[\"a\", \"DT\", \"B-NP\", \"O\"], SubString{String}[\"surprise\", \"NN\", \"I-NP\", \"O\"], SubString{String}[\"0-0\", \"CD\", \"I-NP\", \"O\"], SubString{String}[\"defeat\", \"NN\", \"I-NP\", \"O\"], SubString{String}[\"to\", \"TO\", \"B-PP\", \"O\"], SubString{String}[\"newcomers\", \"NNS\", \"B-NP\", \"O\"], SubString{String}[\"Uzbekistan\", \"NNP\", \"I-NP\", \"B-LOC\"], SubString{String}[\".\", \".\", \"O\", \"O\"]]                            \n",
       " Any[SubString{String}[\"China\", \"NNP\", \"B-NP\", \"B-LOC\"], SubString{String}[\"controlled\", \"VBD\", \"B-VP\", \"O\"], SubString{String}[\"most\", \"JJS\", \"B-NP\", \"O\"], SubString{String}[\"of\", \"IN\", \"B-PP\", \"O\"], SubString{String}[\"the\", \"DT\", \"B-NP\", \"O\"], SubString{String}[\"match\", \"NN\", \"I-NP\", \"O\"], SubString{String}[\"and\", \"CC\", \"O\", \"O\"], SubString{String}[\"saw\", \"VBD\", \"B-VP\", \"O\"], SubString{String}[\"several\", \"JJ\", \"B-NP\", \"O\"], SubString{String}[\"chances\", \"NNS\", \"I-NP\", \"O\"]  …  SubString{String}[\"the\", \"DT\", \"B-NP\", \"O\"], SubString{String}[\"advancing\", \"VBG\", \"I-NP\", \"O\"], SubString{String}[\"Chinese\", \"JJ\", \"I-NP\", \"B-MISC\"], SubString{String}[\"keeper\", \"NN\", \"I-NP\", \"O\"], SubString{String}[\"and\", \"CC\", \"O\", \"O\"], SubString{String}[\"into\", \"IN\", \"B-PP\", \"O\"], SubString{String}[\"an\", \"DT\", \"B-NP\", \"O\"], SubString{String}[\"empty\", \"JJ\", \"I-NP\", \"O\"], SubString{String}[\"net\", \"NN\", \"I-NP\", \"O\"], SubString{String}[\".\", \".\", \"O\", \"O\"]]                                \n",
       " Any[SubString{String}[\"Oleg\", \"NNP\", \"B-NP\", \"B-PER\"], SubString{String}[\"Shatskiku\", \"NNP\", \"I-NP\", \"I-PER\"], SubString{String}[\"made\", \"VBD\", \"B-VP\", \"O\"], SubString{String}[\"sure\", \"JJ\", \"B-ADJP\", \"O\"], SubString{String}[\"of\", \"IN\", \"B-PP\", \"O\"], SubString{String}[\"the\", \"DT\", \"B-NP\", \"O\"], SubString{String}[\"win\", \"VBP\", \"B-VP\", \"O\"], SubString{String}[\"in\", \"IN\", \"B-PP\", \"O\"], SubString{String}[\"injury\", \"NN\", \"B-NP\", \"O\"], SubString{String}[\"time\", \"NN\", \"I-NP\", \"O\"]  …  SubString{String}[\"unstoppable\", \"JJ\", \"I-NP\", \"O\"], SubString{String}[\"left\", \"VBD\", \"B-VP\", \"O\"], SubString{String}[\"foot\", \"NN\", \"B-NP\", \"O\"], SubString{String}[\"shot\", \"NN\", \"I-NP\", \"O\"], SubString{String}[\"from\", \"IN\", \"B-PP\", \"O\"], SubString{String}[\"just\", \"RB\", \"B-NP\", \"O\"], SubString{String}[\"outside\", \"IN\", \"B-PP\", \"O\"], SubString{String}[\"the\", \"DT\", \"B-NP\", \"O\"], SubString{String}[\"area\", \"NN\", \"I-NP\", \"O\"], SubString{String}[\".\", \".\", \"O\", \"O\"]]                               \n",
       " Any[SubString{String}[\"The\", \"DT\", \"B-NP\", \"O\"], SubString{String}[\"former\", \"JJ\", \"I-NP\", \"O\"], SubString{String}[\"Soviet\", \"JJ\", \"I-NP\", \"B-MISC\"], SubString{String}[\"republic\", \"NN\", \"I-NP\", \"O\"], SubString{String}[\"was\", \"VBD\", \"B-VP\", \"O\"], SubString{String}[\"playing\", \"VBG\", \"I-VP\", \"O\"], SubString{String}[\"in\", \"IN\", \"B-PP\", \"O\"], SubString{String}[\"an\", \"DT\", \"B-NP\", \"O\"], SubString{String}[\"Asian\", \"NNP\", \"I-NP\", \"B-MISC\"], SubString{String}[\"Cup\", \"NNP\", \"I-NP\", \"I-MISC\"], SubString{String}[\"finals\", \"NNS\", \"I-NP\", \"O\"], SubString{String}[\"tie\", \"NN\", \"I-NP\", \"O\"], SubString{String}[\"for\", \"IN\", \"B-PP\", \"O\"], SubString{String}[\"the\", \"DT\", \"B-NP\", \"O\"], SubString{String}[\"first\", \"JJ\", \"I-NP\", \"O\"], SubString{String}[\"time\", \"NN\", \"I-NP\", \"O\"], SubString{String}[\".\", \".\", \"O\", \"O\"]]                                                                                                                                                                            \n",
       " Any[SubString{String}[\"Despite\", \"IN\", \"B-PP\", \"O\"], SubString{String}[\"winning\", \"VBG\", \"B-VP\", \"O\"], SubString{String}[\"the\", \"DT\", \"B-NP\", \"O\"], SubString{String}[\"Asian\", \"JJ\", \"I-NP\", \"B-MISC\"], SubString{String}[\"Games\", \"NNPS\", \"I-NP\", \"I-MISC\"], SubString{String}[\"title\", \"NN\", \"I-NP\", \"O\"], SubString{String}[\"two\", \"CD\", \"B-NP\", \"O\"], SubString{String}[\"years\", \"NNS\", \"I-NP\", \"O\"], SubString{String}[\"ago\", \"RB\", \"B-ADVP\", \"O\"], SubString{String}[\",\", \",\", \"O\", \"O\"], SubString{String}[\"Uzbekistan\", \"NNP\", \"B-NP\", \"B-LOC\"], SubString{String}[\"are\", \"VBP\", \"B-VP\", \"O\"], SubString{String}[\"in\", \"IN\", \"B-PP\", \"O\"], SubString{String}[\"the\", \"DT\", \"B-NP\", \"O\"], SubString{String}[\"finals\", \"NNS\", \"I-NP\", \"O\"], SubString{String}[\"as\", \"IN\", \"B-SBAR\", \"O\"], SubString{String}[\"outsiders\", \"NNS\", \"B-NP\", \"O\"], SubString{String}[\".\", \".\", \"O\", \"O\"]]                                                                                                                      \n",
       " Any[SubString{String}[\"Two\", \"CD\", \"B-NP\", \"O\"], SubString{String}[\"goals\", \"NNS\", \"I-NP\", \"O\"], SubString{String}[\"from\", \"IN\", \"B-PP\", \"O\"], SubString{String}[\"defensive\", \"JJ\", \"B-NP\", \"O\"], SubString{String}[\"errors\", \"NNS\", \"I-NP\", \"O\"], SubString{String}[\"in\", \"IN\", \"B-PP\", \"O\"], SubString{String}[\"the\", \"DT\", \"B-NP\", \"O\"], SubString{String}[\"last\", \"JJ\", \"I-NP\", \"O\"], SubString{String}[\"six\", \"CD\", \"I-NP\", \"O\"], SubString{String}[\"minutes\", \"NNS\", \"I-NP\", \"O\"]  …  SubString{String}[\"all\", \"DT\", \"B-NP\", \"O\"], SubString{String}[\"three\", \"CD\", \"I-NP\", \"O\"], SubString{String}[\"points\", \"NNS\", \"I-NP\", \"O\"], SubString{String}[\"from\", \"IN\", \"B-PP\", \"O\"], SubString{String}[\"their\", \"PRP\\$\", \"B-NP\", \"O\"], SubString{String}[\"opening\", \"NN\", \"I-NP\", \"O\"], SubString{String}[\"meeting\", \"NN\", \"I-NP\", \"O\"], SubString{String}[\"against\", \"IN\", \"B-PP\", \"O\"], SubString{String}[\"Syria\", \"NNP\", \"B-NP\", \"B-LOC\"], SubString{String}[\".\", \".\", \"O\", \"O\"]]                         \n",
       " Any[SubString{String}[\"Takuya\", \"NNP\", \"B-NP\", \"B-PER\"], SubString{String}[\"Takagi\", \"NNP\", \"I-NP\", \"I-PER\"], SubString{String}[\"scored\", \"VBD\", \"B-VP\", \"O\"], SubString{String}[\"the\", \"DT\", \"B-NP\", \"O\"], SubString{String}[\"winner\", \"NN\", \"I-NP\", \"O\"], SubString{String}[\"in\", \"IN\", \"B-PP\", \"O\"], SubString{String}[\"the\", \"DT\", \"B-NP\", \"O\"], SubString{String}[\"00th\", \"JJ\", \"I-NP\", \"O\"], SubString{String}[\"minute\", \"NN\", \"I-NP\", \"O\"], SubString{String}[\",\", \",\", \"O\", \"O\"]  …  SubString{String}[\"covered\", \"VBN\", \"I-VP\", \"O\"], SubString{String}[\"but\", \"CC\", \"O\", \"O\"], SubString{String}[\"then\", \"RB\", \"B-VP\", \"O\"], SubString{String}[\"allowed\", \"VBN\", \"I-VP\", \"O\"], SubString{String}[\"to\", \"TO\", \"I-VP\", \"O\"], SubString{String}[\"slip\", \"VB\", \"I-VP\", \"O\"], SubString{String}[\"into\", \"IN\", \"B-PP\", \"O\"], SubString{String}[\"the\", \"DT\", \"B-NP\", \"O\"], SubString{String}[\"net\", \"NN\", \"I-NP\", \"O\"], SubString{String}[\".\", \".\", \"O\", \"O\"]]                                              \n",
       " Any[SubString{String}[\"It\", \"PRP\", \"B-NP\", \"O\"], SubString{String}[\"was\", \"VBD\", \"B-VP\", \"O\"], SubString{String}[\"the\", \"DT\", \"B-NP\", \"O\"], SubString{String}[\"second\", \"JJ\", \"I-NP\", \"O\"], SubString{String}[\"costly\", \"JJ\", \"I-NP\", \"O\"], SubString{String}[\"blunder\", \"NN\", \"I-NP\", \"O\"], SubString{String}[\"by\", \"IN\", \"B-PP\", \"O\"], SubString{String}[\"Syria\", \"NNP\", \"B-NP\", \"B-LOC\"], SubString{String}[\"in\", \"IN\", \"B-PP\", \"O\"], SubString{String}[\"four\", \"CD\", \"B-NP\", \"O\"], SubString{String}[\"minutes\", \"NNS\", \"I-NP\", \"O\"], SubString{String}[\".\", \".\", \"O\", \"O\"]]                                                                                                                                                                                                                                                                                                                                                                                                                                \n",
       " Any[SubString{String}[\"Defender\", \"NNP\", \"B-NP\", \"O\"], SubString{String}[\"Hassan\", \"NNP\", \"I-NP\", \"B-PER\"], SubString{String}[\"Abbas\", \"NNP\", \"I-NP\", \"I-PER\"], SubString{String}[\"rose\", \"VBD\", \"B-VP\", \"O\"], SubString{String}[\"to\", \"TO\", \"I-VP\", \"O\"], SubString{String}[\"intercept\", \"VB\", \"I-VP\", \"O\"], SubString{String}[\"a\", \"DT\", \"B-NP\", \"O\"], SubString{String}[\"long\", \"JJ\", \"I-NP\", \"O\"], SubString{String}[\"ball\", \"NN\", \"I-NP\", \"O\"], SubString{String}[\"into\", \"IN\", \"B-PP\", \"O\"]  …  SubString{String}[\"it\", \"PRP\", \"B-NP\", \"O\"], SubString{String}[\"into\", \"IN\", \"B-PP\", \"O\"], SubString{String}[\"the\", \"DT\", \"B-NP\", \"O\"], SubString{String}[\"top\", \"JJ\", \"I-NP\", \"O\"], SubString{String}[\"corner\", \"NN\", \"I-NP\", \"O\"], SubString{String}[\"of\", \"IN\", \"B-PP\", \"O\"], SubString{String}[\"Bitar\", \"NN\", \"B-NP\", \"B-PER\"], SubString{String}[\"'s\", \"POS\", \"B-NP\", \"O\"], SubString{String}[\"goal\", \"NN\", \"I-NP\", \"O\"], SubString{String}[\".\", \".\", \"O\", \"O\"]]                                    \n",
       " ⋮                                                                                                                                                                                                                                                                                                                                                                                                                                                                                                                                                                                                                                                                                                                                                                                                                                                                                                                                                                                                              \n",
       " Any[SubString{String}[\"Extremadura\", \"NNP\", \"B-NP\", \"B-ORG\"], SubString{String}[\"00\", \"CD\", \"I-NP\", \"O\"], SubString{String}[\"0\", \"CD\", \"I-NP\", \"O\"], SubString{String}[\"0\", \"CD\", \"I-NP\", \"O\"], SubString{String}[\"00\", \"CD\", \"I-NP\", \"O\"], SubString{String}[\"0\", \"CD\", \"I-NP\", \"O\"], SubString{String}[\"00\", \"CD\", \"B-NP\", \"O\"], SubString{String}[\"0\", \"CD\", \"I-NP\", \"O\"]]                                                                                                                                                                                                                                                                                                                                                                                                                                                                                                                                                                                                                                  \n",
       " Any[SubString{String}[\"SOCCER\", \"NN\", \"B-NP\", \"O\"], SubString{String}[\"-\", \":\", \"O\", \"O\"], SubString{String}[\"ENGLISHMAN\", \"NNP\", \"B-NP\", \"B-MISC\"], SubString{String}[\"CHARLTON\", \"NNP\", \"I-NP\", \"B-PER\"], SubString{String}[\"IS\", \"VBZ\", \"B-VP\", \"O\"], SubString{String}[\"MADE\", \"VB\", \"I-VP\", \"O\"], SubString{String}[\"AN\", \"DT\", \"B-NP\", \"O\"], SubString{String}[\"HONORARY\", \"JJ\", \"I-NP\", \"O\"], SubString{String}[\"IRISHMAN\", \"NN\", \"I-NP\", \"B-MISC\"], SubString{String}[\".\", \".\", \"O\", \"O\"]]                                                                                                                                                                                                                                                                                                                                                                                                                                                                                                             \n",
       " Any[SubString{String}[\"DUBLIN\", \"NNP\", \"B-NP\", \"B-LOC\"], SubString{String}[\"0000-00-00\", \"CD\", \"I-NP\", \"O\"]]                                                                                                                                                                                                                                                                                                                                                                                                                                                                                                                                                                                                                                                                                                                                                                                                                                                                                                   \n",
       " Any[SubString{String}[\"Jack\", \"NNP\", \"B-NP\", \"B-PER\"], SubString{String}[\"Charlton\", \"NNP\", \"I-NP\", \"I-PER\"], SubString{String}[\"'s\", \"POS\", \"B-NP\", \"O\"], SubString{String}[\"relationship\", \"NN\", \"I-NP\", \"O\"], SubString{String}[\"with\", \"IN\", \"B-PP\", \"O\"], SubString{String}[\"the\", \"DT\", \"B-NP\", \"O\"], SubString{String}[\"people\", \"NNS\", \"I-NP\", \"O\"], SubString{String}[\"of\", \"IN\", \"B-PP\", \"O\"], SubString{String}[\"Ireland\", \"NNP\", \"B-NP\", \"B-LOC\"], SubString{String}[\"was\", \"VBD\", \"B-VP\", \"O\"]  …  SubString{String}[\"the\", \"DT\", \"B-NP\", \"O\"], SubString{String}[\"Englishman\", \"NNP\", \"I-NP\", \"B-MISC\"], SubString{String}[\"was\", \"VBD\", \"B-VP\", \"O\"], SubString{String}[\"officially\", \"RB\", \"I-VP\", \"O\"], SubString{String}[\"declared\", \"VBD\", \"I-VP\", \"O\"], SubString{String}[\"one\", \"CD\", \"B-NP\", \"O\"], SubString{String}[\"of\", \"IN\", \"B-PP\", \"O\"], SubString{String}[\"their\", \"PRP\\$\", \"B-NP\", \"O\"], SubString{String}[\"own\", \"JJ\", \"I-NP\", \"O\"], SubString{String}[\".\", \".\", \"O\", \"O\"]]     \n",
       " Any[SubString{String}[\"Charlton\", \"JJ\", \"B-ADJP\", \"B-PER\"], SubString{String}[\",\", \",\", \"O\", \"O\"], SubString{String}[\"00\", \"CD\", \"B-NP\", \"O\"], SubString{String}[\",\", \",\", \"O\", \"O\"], SubString{String}[\"and\", \"CC\", \"O\", \"O\"], SubString{String}[\"his\", \"PRP\\$\", \"B-NP\", \"O\"], SubString{String}[\"wife\", \"NN\", \"I-NP\", \"O\"], SubString{String}[\",\", \",\", \"O\", \"O\"], SubString{String}[\"Peggy\", \"NNP\", \"B-NP\", \"B-PER\"], SubString{String}[\",\", \",\", \"O\", \"O\"]  …  SubString{String}[\"of\", \"IN\", \"B-PP\", \"O\"], SubString{String}[\"Charlton\", \"NNP\", \"B-NP\", \"B-PER\"], SubString{String}[\"'s\", \"POS\", \"B-NP\", \"O\"], SubString{String}[\"achievements\", \"NNS\", \"I-NP\", \"O\"], SubString{String}[\"as\", \"IN\", \"B-PP\", \"O\"], SubString{String}[\"the\", \"DT\", \"B-NP\", \"O\"], SubString{String}[\"national\", \"JJ\", \"I-NP\", \"O\"], SubString{String}[\"soccer\", \"NN\", \"I-NP\", \"O\"], SubString{String}[\"manager\", \"NN\", \"I-NP\", \"O\"], SubString{String}[\".\", \".\", \"O\", \"O\"]]                                                   \n",
       " Any[SubString{String}[\"\\\"\", \"\\\"\", \"O\", \"O\"], SubString{String}[\"The\", \"DT\", \"B-NP\", \"O\"], SubString{String}[\"years\", \"NNS\", \"I-NP\", \"O\"], SubString{String}[\"I\", \"PRP\", \"B-NP\", \"O\"], SubString{String}[\"spent\", \"VBD\", \"B-VP\", \"O\"], SubString{String}[\"as\", \"IN\", \"B-PP\", \"O\"], SubString{String}[\"manager\", \"NN\", \"B-NP\", \"O\"], SubString{String}[\"of\", \"IN\", \"B-PP\", \"O\"], SubString{String}[\"the\", \"DT\", \"B-NP\", \"O\"], SubString{String}[\"Republic\", \"NNP\", \"I-NP\", \"B-LOC\"], SubString{String}[\"of\", \"IN\", \"B-PP\", \"I-LOC\"], SubString{String}[\"Ireland\", \"NNP\", \"B-NP\", \"I-LOC\"], SubString{String}[\"were\", \"VBD\", \"B-VP\", \"O\"], SubString{String}[\"the\", \"DT\", \"B-NP\", \"O\"], SubString{String}[\"best\", \"JJS\", \"I-NP\", \"O\"], SubString{String}[\"years\", \"NNS\", \"I-NP\", \"O\"], SubString{String}[\"of\", \"IN\", \"B-PP\", \"O\"], SubString{String}[\"my\", \"PRP\\$\", \"B-NP\", \"O\"], SubString{String}[\"life\", \"NN\", \"I-NP\", \"O\"], SubString{String}[\".\", \".\", \"O\", \"O\"]]                                            \n",
       " Any[SubString{String}[\"It\", \"PRP\", \"B-NP\", \"O\"], SubString{String}[\"all\", \"DT\", \"B-NP\", \"O\"], SubString{String}[\"culminated\", \"VBN\", \"B-VP\", \"O\"], SubString{String}[\"in\", \"IN\", \"B-PP\", \"O\"], SubString{String}[\"the\", \"DT\", \"B-NP\", \"O\"], SubString{String}[\"fact\", \"NN\", \"I-NP\", \"O\"], SubString{String}[\"that\", \"IN\", \"B-SBAR\", \"O\"], SubString{String}[\"I\", \"PRP\", \"B-NP\", \"O\"], SubString{String}[\"now\", \"RB\", \"B-ADVP\", \"O\"], SubString{String}[\"have\", \"VBP\", \"B-VP\", \"O\"], SubString{String}[\"lots\", \"NNS\", \"B-NP\", \"O\"], SubString{String}[\"of\", \"IN\", \"B-PP\", \"O\"], SubString{String}[\"great\", \"JJ\", \"B-NP\", \"O\"], SubString{String}[\",\", \",\", \"I-NP\", \"O\"], SubString{String}[\"great\", \"JJ\", \"I-NP\", \"O\"], SubString{String}[\"friends\", \"NNS\", \"I-NP\", \"O\"], SubString{String}[\"in\", \"IN\", \"B-PP\", \"O\"], SubString{String}[\"Ireland\", \"NNP\", \"B-NP\", \"B-LOC\"], SubString{String}[\".\", \".\", \"O\", \"O\"]]                                                                                              \n",
       " Any[SubString{String}[\"That\", \"DT\", \"B-NP\", \"O\"], SubString{String}[\"is\", \"VBZ\", \"B-VP\", \"O\"], SubString{String}[\"why\", \"WRB\", \"B-ADVP\", \"O\"], SubString{String}[\"this\", \"DT\", \"B-NP\", \"O\"], SubString{String}[\"is\", \"VBZ\", \"B-VP\", \"O\"], SubString{String}[\"so\", \"RB\", \"B-ADJP\", \"O\"], SubString{String}[\"emotional\", \"JJ\", \"I-ADJP\", \"O\"], SubString{String}[\"a\", \"DT\", \"B-NP\", \"O\"], SubString{String}[\"night\", \"NN\", \"I-NP\", \"O\"], SubString{String}[\"for\", \"IN\", \"B-PP\", \"O\"], SubString{String}[\"me\", \"PRP\", \"B-NP\", \"O\"], SubString{String}[\",\", \",\", \"O\", \"O\"], SubString{String}[\"\\\"\", \"\\\"\", \"O\", \"O\"], SubString{String}[\"Charlton\", \"NNP\", \"B-NP\", \"B-PER\"], SubString{String}[\"said\", \"VBD\", \"B-VP\", \"O\"], SubString{String}[\".\", \".\", \"O\", \"O\"]]                                                                                                                                                                                                                                                  \n",
       " Any[SubString{String}[\"\\\"\", \"\\\"\", \"O\", \"O\"], SubString{String}[\"It\", \"PRP\", \"B-NP\", \"O\"], SubString{String}[\"was\", \"VBD\", \"B-VP\", \"O\"], SubString{String}[\"the\", \"DT\", \"B-NP\", \"O\"], SubString{String}[\"joy\", \"NN\", \"I-NP\", \"O\"], SubString{String}[\"that\", \"IN\", \"B-SBAR\", \"O\"], SubString{String}[\"we\", \"PRP\", \"B-NP\", \"O\"], SubString{String}[\"all\", \"DT\", \"B-NP\", \"O\"], SubString{String}[\"had\", \"VBD\", \"B-VP\", \"O\"], SubString{String}[\"over\", \"IN\", \"B-PP\", \"O\"]  …  SubString{String}[\",\", \",\", \"O\", \"O\"], SubString{String}[\"that\", \"IN\", \"B-SBAR\", \"O\"], SubString{String}[\"I\", \"PRP\", \"B-NP\", \"O\"], SubString{String}[\"treasure\", \"NN\", \"B-NP\", \"O\"], SubString{String}[\"most\", \"JJS\", \"I-NP\", \"O\"], SubString{String}[\",\", \",\", \"O\", \"O\"], SubString{String}[\"\\\"\", \"\\\"\", \"O\", \"O\"], SubString{String}[\"he\", \"PRP\", \"B-NP\", \"O\"], SubString{String}[\"added\", \"VBD\", \"B-VP\", \"O\"], SubString{String}[\".\", \".\", \"O\", \"O\"]]                                                                             \n",
       " Any[SubString{String}[\"Charlton\", \"NNP\", \"B-NP\", \"B-PER\"], SubString{String}[\"managed\", \"VBD\", \"B-VP\", \"O\"], SubString{String}[\"Ireland\", \"NNP\", \"B-NP\", \"B-LOC\"], SubString{String}[\"for\", \"IN\", \"B-PP\", \"O\"], SubString{String}[\"00\", \"CD\", \"B-NP\", \"O\"], SubString{String}[\"matches\", \"NNS\", \"I-NP\", \"O\"], SubString{String}[\",\", \",\", \"O\", \"O\"], SubString{String}[\"during\", \"IN\", \"B-PP\", \"O\"], SubString{String}[\"which\", \"WDT\", \"B-NP\", \"O\"], SubString{String}[\"time\", \"NN\", \"I-NP\", \"O\"]  …  SubString{String}[\"almost\", \"RB\", \"B-NP\", \"O\"], SubString{String}[\"00\", \"CD\", \"I-NP\", \"O\"], SubString{String}[\"years\", \"NNS\", \"I-NP\", \"O\"], SubString{String}[\"until\", \"IN\", \"B-SBAR\", \"O\"], SubString{String}[\"he\", \"PRP\", \"B-NP\", \"O\"], SubString{String}[\"resigned\", \"VBD\", \"B-VP\", \"O\"], SubString{String}[\"in\", \"IN\", \"B-PP\", \"O\"], SubString{String}[\"December\", \"NNP\", \"B-NP\", \"O\"], SubString{String}[\"0000\", \"CD\", \"I-NP\", \"O\"], SubString{String}[\".\", \".\", \"O\", \"O\"]]                         \n",
       " Any[SubString{String}[\"He\", \"PRP\", \"B-NP\", \"O\"], SubString{String}[\"guided\", \"VBD\", \"B-VP\", \"O\"], SubString{String}[\"Ireland\", \"NNP\", \"B-NP\", \"B-LOC\"], SubString{String}[\"to\", \"TO\", \"B-VP\", \"O\"], SubString{String}[\"two\", \"CD\", \"B-NP\", \"O\"], SubString{String}[\"successive\", \"JJ\", \"I-NP\", \"O\"], SubString{String}[\"World\", \"NNP\", \"I-NP\", \"B-MISC\"], SubString{String}[\"Cup\", \"NNP\", \"I-NP\", \"I-MISC\"], SubString{String}[\"finals\", \"NNS\", \"I-NP\", \"O\"], SubString{String}[\"tournaments\", \"NNS\", \"I-NP\", \"O\"]  …  SubString{String}[\"a\", \"DT\", \"B-NP\", \"O\"], SubString{String}[\"well-fancied\", \"JJ\", \"I-NP\", \"O\"], SubString{String}[\"England\", \"NNP\", \"I-NP\", \"B-LOC\"], SubString{String}[\"team\", \"NN\", \"I-NP\", \"O\"], SubString{String}[\"0-0\", \"CD\", \"I-NP\", \"O\"], SubString{String}[\"in\", \"IN\", \"B-PP\", \"O\"], SubString{String}[\"their\", \"PRP\\$\", \"B-NP\", \"O\"], SubString{String}[\"group\", \"NN\", \"I-NP\", \"O\"], SubString{String}[\"qualifier\", \"NN\", \"I-NP\", \"O\"], SubString{String}[\".\", \".\", \"O\", \"O\"]]\n",
       " Any[SubString{String}[\"The\", \"DT\", \"B-NP\", \"O\"], SubString{String}[\"lanky\", \"JJ\", \"I-NP\", \"O\"], SubString{String}[\"former\", \"JJ\", \"I-NP\", \"O\"], SubString{String}[\"Leeds\", \"NNP\", \"I-NP\", \"B-ORG\"], SubString{String}[\"United\", \"NNP\", \"I-NP\", \"I-ORG\"], SubString{String}[\"defender\", \"NN\", \"I-NP\", \"O\"], SubString{String}[\"did\", \"VBD\", \"B-VP\", \"O\"], SubString{String}[\"not\", \"RB\", \"I-VP\", \"O\"], SubString{String}[\"make\", \"VB\", \"I-VP\", \"O\"], SubString{String}[\"his\", \"PRP\\$\", \"B-NP\", \"O\"]  …  SubString{String}[\"Cup\", \"NNP\", \"I-NP\", \"I-MISC\"], SubString{String}[\"winning\", \"JJ\", \"B-NP\", \"O\"], SubString{String}[\"team\", \"NN\", \"I-NP\", \"O\"], SubString{String}[\"with\", \"IN\", \"B-PP\", \"O\"], SubString{String}[\"his\", \"PRP\\$\", \"B-NP\", \"O\"], SubString{String}[\"younger\", \"JJR\", \"I-NP\", \"O\"], SubString{String}[\"brother\", \"NN\", \"I-NP\", \"O\"], SubString{String}[\",\", \",\", \"O\", \"O\"], SubString{String}[\"Bobby\", \"NNP\", \"B-NP\", \"B-PER\"], SubString{String}[\".\", \".\", \"O\", \"O\"]]                    "
      ]
     },
     "execution_count": 8,
     "metadata": {},
     "output_type": "execute_result"
    }
   ],
   "source": [
    "train_sentences = load_sentences(PARAMETERS[\"TRAIN_PATH\"], PARAMETERS[\"ZERO_ALL_NUMS\"])\n",
    "dev_sentences = load_sentences(PARAMETERS[\"DEV_PATH\"], PARAMETERS[\"ZERO_ALL_NUMS\"])\n",
    "test_sentences = load_sentences(PARAMETERS[\"TEST_PATH\"], PARAMETERS[\"ZERO_ALL_NUMS\"])"
   ]
  },
  {
   "cell_type": "code",
   "execution_count": null,
   "metadata": {},
   "outputs": [],
   "source": []
  }
 ],
 "metadata": {
  "kernelspec": {
   "display_name": "Julia 1.0.3",
   "language": "julia",
   "name": "julia-1.0"
  },
  "language_info": {
   "file_extension": ".jl",
   "mimetype": "application/julia",
   "name": "julia",
   "version": "1.0.3"
  }
 },
 "nbformat": 4,
 "nbformat_minor": 2
}
